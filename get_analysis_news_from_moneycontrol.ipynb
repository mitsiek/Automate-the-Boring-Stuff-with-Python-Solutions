{
  "nbformat": 4,
  "nbformat_minor": 0,
  "metadata": {
    "colab": {
      "name": "get_analysis_news_from_moneycontrol.ipynb",
      "provenance": [],
      "collapsed_sections": [],
      "authorship_tag": "ABX9TyOEPf4WPbFF5WyUUUY41gxF",
      "include_colab_link": true
    },
    "kernelspec": {
      "name": "python3",
      "display_name": "Python 3"
    },
    "language_info": {
      "name": "python"
    }
  },
  "cells": [
    {
      "cell_type": "markdown",
      "metadata": {
        "id": "view-in-github",
        "colab_type": "text"
      },
      "source": [
        "<a href=\"https://colab.research.google.com/github/mitsiek/Automate-the-Boring-Stuff-with-Python-Solutions/blob/master/get_analysis_news_from_moneycontrol.ipynb\" target=\"_parent\"><img src=\"https://colab.research.google.com/assets/colab-badge.svg\" alt=\"Open In Colab\"/></a>"
      ]
    },
    {
      "cell_type": "code",
      "metadata": {
        "colab": {
          "base_uri": "https://localhost:8080/"
        },
        "id": "CMeMxHTS9JUb",
        "outputId": "7a2b8c10-b6a5-48f3-da6c-1f3ba8970655"
      },
      "source": [
        "from bs4 import BeautifulSoup\n",
        "import requests\n",
        "from IPython.core.display import HTML\n",
        "\n",
        "response_analysis = requests.get(\"https://www.moneycontrol.com/news/analysis-252.html\", timeout=240)\n",
        "page_content_analysis = BeautifulSoup(response_analysis.content, \"html.parser\")\n",
        "HTML(str(page_content_analysis.find(\"h2\")))\n",
        "\n",
        "# To print all strengths about stock\n",
        "print('')\n",
        "area_of_focus = page_content_analysis.find('div', {'id' : 'left'})\n",
        "for ultag in area_of_focus.find_all('ul', {'id': 'cagetory'}):\n",
        "  for litag in ultag.find_all('li'):\n",
        "    for h2tag in litag.find_all('h2'):\n",
        "      links = h2tag.findAll('a')\n",
        "      for link in links:\n",
        "        title = link.get('title')\n",
        "        print(title)\n"
      ],
      "execution_count": 25,
      "outputs": [
        {
          "output_type": "stream",
          "text": [
            "\n",
            "Dalal Street Week Ahead: 10 key factors that will keep traders busy next week\n",
            "Opportunity for Zomato to grow the market and revenues are huge: Jitesh Ranawat of Marwadi Shares\n",
            "Small & midcaps shine in a volatile week; 24 stocks in BSE500 index rise 10-20%\n",
            "Market ends lower in a volatile week; mid & small-caps continue to outperform\n",
            "Post-pandemic equation: Economy unlocked = market unleashed\n",
            "Bulk Deals | Porinju Veliyath sells 0.6% stake in Sandu Pharma, BNP Paribas buys 1.15% in Granules\n",
            "Technical View: Nifty forms Doji pattern, weekly MACD chart gives sell signal\n",
            "After The Bell: Nifty slips below 15,700; what should investors do on Monday?\n",
            "Decoding the rise in NSE Futures. What should investors do?\n",
            "Zomato IPO is expensive given company's financials, excitement is around the offering from the segment: Kunj Bansal of Karvy Capital\n",
            "D-Street Talk: Saurabh Mukherjea on 30-years of reforms, polorisation in market & how to pick wealth creators\n",
            "Trade Spotlight: What should investors do with Jay Shree Tea, Speciality Restaurants and Sobha?\n",
            "DAILY VOICE | A sustained rally in crude prices could hurt capital flows and macrostability of India: R Venkataraman of IIFL Securities\n",
            "Bulk Deals | Bhanukumar Nahata sells one lakh shares in Pearl Polymers; Alpha Leon offloads 10 lakh shares in Uttam Galva\n",
            "Trade setup for Friday: Top 15 things to know before Opening Bell\n",
            "Technical View: Nifty forms bearish candle; experts says crucial for index to stay above 15,680 level\n",
            "After The Bell: Benchmark loses nearly 1% in steep fall; what should investors do on Friday?\n",
            "Small & Midcap Mantra: Amber Enterprises set to resume next leg of rally, over 20% upside expected\n",
            "Market at record high not in sync with current economic realities. Is it a reason to worry?\n",
            "Kotak Institutional Equities sees 10 stocks doubling PAT on yearly basis\n",
            "Trade Spotlight: What should investors do with Bharat Forge, SIS and Laxmi Organics?\n",
            "DAILY VOICE | Viraj Mehta of Equirus sees this sector as the dark horse\n",
            "Bulk Deals | Tamarind Capital sells 69 lakh shares in Dhani Services, Aberdeen offloads 10 lakh shares in Ujjivan Financial\n",
            "Trade setup for Thursday: Top 15 things to know before Opening Bell\n",
            "Technical View: Nifty forms bullish candle, strength possible only if index sustains above 15,915\n"
          ],
          "name": "stdout"
        }
      ]
    }
  ]
}
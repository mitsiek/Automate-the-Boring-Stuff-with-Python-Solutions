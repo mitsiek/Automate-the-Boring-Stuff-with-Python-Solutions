{
  "nbformat": 4,
  "nbformat_minor": 0,
  "metadata": {
    "colab": {
      "name": "get_analysis_news_from_moneycontrol.ipynb",
      "provenance": [],
      "collapsed_sections": [],
      "authorship_tag": "ABX9TyPYCgG+SGOWFl1RdXs3uZmY",
      "include_colab_link": true
    },
    "kernelspec": {
      "name": "python3",
      "display_name": "Python 3"
    },
    "language_info": {
      "name": "python"
    }
  },
  "cells": [
    {
      "cell_type": "markdown",
      "metadata": {
        "id": "view-in-github",
        "colab_type": "text"
      },
      "source": [
        "<a href=\"https://colab.research.google.com/github/mitsiek/Automate-the-Boring-Stuff-with-Python-Solutions/blob/master/get_analysis_news_from_moneycontrol.ipynb\" target=\"_parent\"><img src=\"https://colab.research.google.com/assets/colab-badge.svg\" alt=\"Open In Colab\"/></a>"
      ]
    },
    {
      "cell_type": "code",
      "metadata": {
        "colab": {
          "base_uri": "https://localhost:8080/",
          "height": 971
        },
        "id": "CMeMxHTS9JUb",
        "outputId": "bf843f40-6e25-4003-fca6-7133bd4852ce"
      },
      "source": [
        "from bs4 import BeautifulSoup\n",
        "import requests\n",
        "from IPython.core.display import display, HTML\n",
        "\n",
        "#https://www.moneycontrol.com/news/analysis-252.html/page-2/\n",
        "\n",
        "response_analysis = requests.get(\"https://www.moneycontrol.com/news/analysis-252.html\", timeout=240)\n",
        "page_content_analysis = BeautifulSoup(response_analysis.content, \"html.parser\")\n",
        "display(HTML('<h1>Analysis</h1>'))\n",
        "\n",
        "# To print all analysis from market\n",
        "area_of_focus = page_content_analysis.find('div', {'id' : 'left'})\n",
        "for ultag in area_of_focus.find_all('ul', {'id': 'cagetory'}):\n",
        "  for litag in ultag.find_all('li'):\n",
        "    for h2tag in litag.find_all('h2'):\n",
        "      links = h2tag.findAll('a')\n",
        "      for link in links:\n",
        "        title = link.get('title')\n",
        "        print(title)\n",
        "\n",
        "response_analysis = requests.get(\"https://www.moneycontrol.com/news/business/\", timeout=240)\n",
        "page_content_analysis = BeautifulSoup(response_analysis.content, \"html.parser\")\n",
        "display(HTML('<h1>Business</h1>'))\n",
        "\n",
        "# To print all business news from market\n",
        "area_of_focus = page_content_analysis.find('div', {'id' : 'left'})\n",
        "for ultag in area_of_focus.find_all('ul', {'id': 'cagetory'}):\n",
        "  for litag in ultag.find_all('li'):\n",
        "    for h2tag in litag.find_all('h2'):\n",
        "      links = h2tag.findAll('a')\n",
        "      for link in links:\n",
        "        title = link.get('title')\n",
        "        print(title)        \n"
      ],
      "execution_count": 37,
      "outputs": [
        {
          "output_type": "display_data",
          "data": {
            "text/html": [
              "<h1>Analysis</h1>"
            ],
            "text/plain": [
              "<IPython.core.display.HTML object>"
            ]
          },
          "metadata": {
            "tags": []
          }
        },
        {
          "output_type": "stream",
          "text": [
            "Dalal Street Week Ahead: 10 key factors that will keep traders busy next week\n",
            "Opportunity for Zomato to grow the market and revenues are huge: Jitesh Ranawat of Marwadi Shares\n",
            "Small & midcaps shine in a volatile week; 24 stocks in BSE500 index rise 10-20%\n",
            "Market ends lower in a volatile week; mid & small-caps continue to outperform\n",
            "Post-pandemic equation: Economy unlocked = market unleashed\n",
            "Bulk Deals | Porinju Veliyath sells 0.6% stake in Sandu Pharma, BNP Paribas buys 1.15% in Granules\n",
            "Technical View: Nifty forms Doji pattern, weekly MACD chart gives sell signal\n",
            "After The Bell: Nifty slips below 15,700; what should investors do on Monday?\n",
            "Decoding the rise in NSE Futures. What should investors do?\n",
            "Zomato IPO is expensive given company's financials, excitement is around the offering from the segment: Kunj Bansal of Karvy Capital\n",
            "D-Street Talk: Saurabh Mukherjea on 30-years of reforms, polorisation in market & how to pick wealth creators\n",
            "Trade Spotlight: What should investors do with Jay Shree Tea, Speciality Restaurants and Sobha?\n",
            "DAILY VOICE | A sustained rally in crude prices could hurt capital flows and macrostability of India: R Venkataraman of IIFL Securities\n",
            "Bulk Deals | Bhanukumar Nahata sells one lakh shares in Pearl Polymers; Alpha Leon offloads 10 lakh shares in Uttam Galva\n",
            "Trade setup for Friday: Top 15 things to know before Opening Bell\n",
            "Technical View: Nifty forms bearish candle; experts says crucial for index to stay above 15,680 level\n",
            "After The Bell: Benchmark loses nearly 1% in steep fall; what should investors do on Friday?\n",
            "Small & Midcap Mantra: Amber Enterprises set to resume next leg of rally, over 20% upside expected\n",
            "Market at record high not in sync with current economic realities. Is it a reason to worry?\n",
            "Kotak Institutional Equities sees 10 stocks doubling PAT on yearly basis\n",
            "Trade Spotlight: What should investors do with Bharat Forge, SIS and Laxmi Organics?\n",
            "DAILY VOICE | Viraj Mehta of Equirus sees this sector as the dark horse\n",
            "Bulk Deals | Tamarind Capital sells 69 lakh shares in Dhani Services, Aberdeen offloads 10 lakh shares in Ujjivan Financial\n",
            "Trade setup for Thursday: Top 15 things to know before Opening Bell\n",
            "Technical View: Nifty forms bullish candle, strength possible only if index sustains above 15,915\n"
          ],
          "name": "stdout"
        },
        {
          "output_type": "display_data",
          "data": {
            "text/html": [
              "<h1>Business</h1>"
            ],
            "text/plain": [
              "<IPython.core.display.HTML object>"
            ]
          },
          "metadata": {
            "tags": []
          }
        },
        {
          "output_type": "stream",
          "text": [
            "Aviation Ministry announces 8 new flights for Madhya Pradesh from July 16\n",
            "EaseMyTrip aims 100% growth this year\n",
            "COVID-19 update | Ladakh becomes first UT to vaccinate entire population with first dose\n",
            "'Commodities may remain directionless amid increasing uncertainty'\n",
            "'Weak global market affecting secondary market, investors turn to primary market'\n",
            "COVID-19 | Finance Minister Nirmala Sitharaman offers CoWIN platform to countries for free\n",
            "Movers & Shakers | 10 stocks that moved the most last week\n",
            "Sunday Special: COVID brings luxury car for hire business in Punjab to its knees; absence of NRIs biggest bummer\n",
            "Rising fuel price to have cascading effect on essential goods, limit purchasing power of consumers: Dow's Fiona Boal\n",
            "How stop loss will save you from technical glitches\n",
            "Dalal Street Week Ahead: 10 key factors that will keep traders busy next week\n",
            "Twitter names Vinay Prakash as Resident Grievance Officer\n",
            "G20 approves minimum global corporate tax of 15%\n",
            "Lottery Sambad Result July 11: ‘Dear Bangasree Ichamati’ lottery winners to be announced at 4 pm\n",
            "A close above 15900 would take Nifty50 towards 16150-16200: Anu Jain of IIFL Wealth\n",
            "Hard to say if Zomato could be a multibagger story: Prashanth Tapse of Mehta Equities\n",
            "Top cryptocurrency news on July 11: Major stories on Bitcoin, Square and India’s Cryptocurrency Bill\n",
            "Cryptocurrency Prices Today on July 11: Bitcoin down, Dogecoin sees biggest slump at -4.14%\n",
            "Coronavirus News LIVE Updates: Puducherry crosses 5 lakh vaccinations\n",
            "Petrol, diesel prices today on July 11: Fuel prices unchanged after touching record high; check rates in your city\n",
            "Crypto Wrap: All that transpired in the cryptocurrency space this week\n",
            "Moneycontrol Daily: Your Essential 7\n",
            "Mahalaxmi Group bags export order for low ash metallurgical coke to Indonesia\n",
            "S Jaishankar, Georgian PM discuss trade, connectivity to take economic ties to higher level\n",
            "UEFA EURO 2020 final | England pubs expected to sell 13 million pints on D-Day: Report\n"
          ],
          "name": "stdout"
        }
      ]
    }
  ]
}
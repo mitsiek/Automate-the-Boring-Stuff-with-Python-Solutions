{
  "nbformat": 4,
  "nbformat_minor": 0,
  "metadata": {
    "colab": {
      "name": "text_summarization.ipynb",
      "provenance": [],
      "authorship_tag": "ABX9TyMObAx2cbXEtvU+ADS7WrZH",
      "include_colab_link": true
    },
    "kernelspec": {
      "name": "python3",
      "display_name": "Python 3"
    },
    "language_info": {
      "name": "python"
    }
  },
  "cells": [
    {
      "cell_type": "markdown",
      "metadata": {
        "id": "view-in-github",
        "colab_type": "text"
      },
      "source": [
        "<a href=\"https://colab.research.google.com/github/mitsiek/Automate-the-Boring-Stuff-with-Python-Solutions/blob/master/text_summarization.ipynb\" target=\"_parent\"><img src=\"https://colab.research.google.com/assets/colab-badge.svg\" alt=\"Open In Colab\"/></a>"
      ]
    },
    {
      "cell_type": "code",
      "metadata": {
        "colab": {
          "base_uri": "https://localhost:8080/",
          "height": 294
        },
        "id": "K1KSJ71NIVMp",
        "outputId": "e8d8b231-30f5-4a57-88c3-57535982930d"
      },
      "source": [
        "from bs4 import BeautifulSoup\n",
        "import bs4\n",
        "import requests\n",
        "from IPython.core.display import display, HTML\n",
        "\n",
        "#https://www.moneycontrol.com/news/analysis-252.html/page-2/\n",
        "\n",
        "response_analysis = requests.get(\"https://www.moneycontrol.com/news/india/petrol-diesel-prices-today-on-july-11-fuel-prices-unchanged-after-touching-record-high-check-rates-in-your-city-7154851.html\", timeout=240)\n",
        "page_content_analysis = BeautifulSoup(response_analysis.content, \"html.parser\")\n",
        "display(HTML('<h2>Petrol and diesel prices differ from state to state depending on the incidence of local taxes such as VAT and freight charges. (Representative image)</h2>'))\n",
        "\n",
        "area_of_focus = page_content_analysis.find('div', {'class' : 'content_wrapper arti-flow'})\n",
        "area_of_focus.find('div', {'class' : 'faq_contentshw'}).decompose()\n",
        "area_of_focus.find('div', {'class' : 'vac_txtbox'}).decompose()\n",
        "paragraph = area_of_focus.findAll('p')\n",
        "for p in paragraph:\n",
        "  print(p.getText())"
      ],
      "execution_count": 35,
      "outputs": [
        {
          "output_type": "display_data",
          "data": {
            "text/html": [
              "<h2>Petrol and diesel prices differ from state to state depending on the incidence of local taxes such as VAT and freight charges. (Representative image)</h2>"
            ],
            "text/plain": [
              "<IPython.core.display.HTML object>"
            ]
          },
          "metadata": {
            "tags": []
          }
        },
        {
          "output_type": "stream",
          "text": [
            "The price of petrol and diesel remained unchanged on July 11 after reaching a new record high on the previous day, according to a price notification by state-owned fuel retailers.\n",
            "The increase on July 10, 38th since May 4, took the petrol price in Delhi closer to Rs 101 per litre mark. The petrol price in the national capital soared to Rs 100.95 a litre and diesel was priced at Rs 89.92 per litre, according to Bharat Petroleum's price listing.\n",
            "In Mumbai also, the petrol priced remained unchanged and retailed at an all-time high of Rs 106.97 a litre. The financial hub, on May 29, became the first metro in the country where petrol was being sold for more than Rs 100 per litre.\n",
            "Diesel price also remained unchanged and sold at Rs 97.5 per litre in Maharashtra’s capital.\n",
            "The fuel prices also remain the same in Kolkata, where the prices of a litre of petrol and diesel were Rs 101.05 and 93.01, respectively.\n",
            "Chennai also retailed a litre of petrol at the same price as it was on the previous day -- Rs 101.71. Diesel price also remained unchanged at Rs 94.43 per litre in Tamil Nadu’s capital.\n",
            "The hike on July 10, 38th increase in the price of petrol since May 4 when state-owned oil firms ended an 18-day hiatus in rate revision they observed during assembly elections in states like West Bengal, took the petrol price above Rs 100-per-litre mark in some places in Uttar Pradesh, Chhattisgarh and Nagaland.\n",
            "The three states are in a growing list of places where the fuel is at over Rs 100-a-litre mark. States, where petrol had reached those levels over the past few weeks, are Rajasthan, Madhya Pradesh, Maharashtra, Andhra Pradesh, Telangana, Karnataka, Jammu and Kashmir, Odisha, Tamil Nadu, Kerala, Bihar, Punjab, Ladakh, Sikkim and Puducherry.\n",
            "Fuel prices differ from state to state depending on the incidence of local taxes such as value-added tax (VAT) and freight charges. As much as 55 percent of the retail selling price of petrol in Delhi is made up of taxes (Rs 32.90 a litre excise duty collected by the central government and Rs 22.80 VAT levied by the state government).\n",
            "Half of the diesel price is made up of taxes (Rs 31.80 central excise and Rs 13.04 state VAT).\n",
            "Earlier this week, Oil Minister Hardeep Singh Puri refused to comment on the issue unless he was fully briefed. \"Give me some time. I need to be briefed on the issues,\" he had said soon after taking charge of the ministry on July 8. \"It will be very wrong for me to comment on it (fuel prices) when I have just stepped into this building.\"\n"
          ],
          "name": "stdout"
        }
      ]
    }
  ]
}
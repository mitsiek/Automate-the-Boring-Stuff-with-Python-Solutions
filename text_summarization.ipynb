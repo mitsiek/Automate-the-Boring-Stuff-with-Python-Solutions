{
  "nbformat": 4,
  "nbformat_minor": 0,
  "metadata": {
    "colab": {
      "name": "text_summarization.ipynb",
      "provenance": [],
      "collapsed_sections": [],
      "authorship_tag": "ABX9TyPb6ear0x24LdcjtjOfa2hs",
      "include_colab_link": true
    },
    "kernelspec": {
      "name": "python3",
      "display_name": "Python 3"
    },
    "language_info": {
      "name": "python"
    }
  },
  "cells": [
    {
      "cell_type": "markdown",
      "metadata": {
        "id": "view-in-github",
        "colab_type": "text"
      },
      "source": [
        "<a href=\"https://colab.research.google.com/github/mitsiek/Automate-the-Boring-Stuff-with-Python-Solutions/blob/master/text_summarization.ipynb\" target=\"_parent\"><img src=\"https://colab.research.google.com/assets/colab-badge.svg\" alt=\"Open In Colab\"/></a>"
      ]
    },
    {
      "cell_type": "code",
      "metadata": {
        "colab": {
          "base_uri": "https://localhost:8080/",
          "height": 327
        },
        "id": "K1KSJ71NIVMp",
        "outputId": "cc7f01e2-e6eb-4824-b167-88715930b1f8"
      },
      "source": [
        "from bs4 import BeautifulSoup\n",
        "import textwrap\n",
        "import requests\n",
        "from IPython.core.display import display, HTML\n",
        "import urllib.request\n",
        "import nltk\n",
        "from string import punctuation\n",
        "from nltk.corpus import stopwords\n",
        "from nltk.tokenize import word_tokenize\n",
        "from nltk.tokenize import sent_tokenize\n",
        "\n",
        "#https://www.moneycontrol.com/news/analysis-252.html/page-2/\n",
        "text = urllib.request.urlopen('https://www.moneycontrol.com/news/india/petrol-diesel-prices-today-on-july-11-fuel-prices-unchanged-after-touching-record-high-check-rates-in-your-city-7154851.html')\n",
        "article = text.read()\n",
        "#response_analysis = requests.get(\"https://www.moneycontrol.com/news/india/petrol-diesel-prices-today-on-july-11-fuel-prices-unchanged-after-touching-record-high-check-rates-in-your-city-7154851.html\", timeout=240)\n",
        "#page_content_analysis = BeautifulSoup(response_analysis.content, \"html.parser\")\n",
        "display(HTML('<h2>Petrol and diesel prices differ from state to state depending on the incidence of local taxes such as VAT and freight charges. (Representative image)</h2>'))\n",
        "\n",
        "article_parsed = BeautifulSoup(article,'html.parser')\n",
        "article_parsed_div = article_parsed.find('div', {'class' : 'content_wrapper arti-flow'})\n",
        "article_parsed.find('div', {'class' : 'faq_contentshw'}).decompose()\n",
        "article_parsed.find('div', {'class' : 'vac_txtbox'}).decompose()\n",
        "paragraphs = article_parsed_div.find_all('p')\n",
        "article_content = ''\n",
        "for p in paragraphs:  \n",
        "    article_content += p.text\n",
        "article_content    "
      ],
      "execution_count": 77,
      "outputs": [
        {
          "output_type": "display_data",
          "data": {
            "text/html": [
              "<h2>Petrol and diesel prices differ from state to state depending on the incidence of local taxes such as VAT and freight charges. (Representative image)</h2>"
            ],
            "text/plain": [
              "<IPython.core.display.HTML object>"
            ]
          },
          "metadata": {
            "tags": []
          }
        },
        {
          "output_type": "execute_result",
          "data": {
            "application/vnd.google.colaboratory.intrinsic+json": {
              "type": "string"
            },
            "text/plain": [
              "'The price of petrol and diesel remained unchanged on July 11 after reaching a new record high on the previous day, according to a price notification by state-owned fuel retailers.The increase on July 10, 38th since May 4, took the petrol price in Delhi closer to Rs 101 per litre mark. The petrol price in the national capital soared to Rs 100.95 a litre and diesel was priced at Rs 89.92 per litre, according to Bharat Petroleum\\'s price listing.In Mumbai also, the petrol priced remained unchanged and retailed at an all-time high of Rs 106.97 a litre. The financial hub, on May 29, became the first metro in the country where petrol was being sold for more than Rs 100 per litre.Diesel price also remained unchanged and sold at Rs 97.5 per litre in Maharashtra’s capital.The fuel prices also remain the same in Kolkata, where the prices of a litre of petrol and diesel were Rs 101.05 and 93.01, respectively.Chennai also retailed a litre of petrol at the same price as it was on the previous day -- Rs 101.71. Diesel price also remained unchanged at Rs 94.43 per litre in Tamil Nadu’s capital.The hike on July 10, 38th increase in the price of petrol since May 4 when state-owned oil firms ended an 18-day hiatus in rate revision they observed during assembly elections in states like West Bengal, took the petrol price above Rs 100-per-litre mark in some places in Uttar Pradesh, Chhattisgarh and Nagaland.The three states are in a growing list of places where the fuel is at over Rs 100-a-litre mark. States, where petrol had reached those levels over the past few weeks, are Rajasthan, Madhya Pradesh, Maharashtra, Andhra Pradesh, Telangana, Karnataka, Jammu and Kashmir, Odisha, Tamil Nadu, Kerala, Bihar, Punjab, Ladakh, Sikkim and Puducherry.Fuel prices differ from state to state depending on the incidence of local taxes such as value-added tax (VAT) and freight charges. As much as 55 percent of the retail selling price of petrol in Delhi is made up of taxes (Rs 32.90 a litre excise duty collected by the central government and Rs 22.80 VAT levied by the state government).Half of the diesel price is made up of taxes (Rs 31.80 central excise and Rs 13.04 state VAT).Earlier this week, Oil Minister Hardeep Singh Puri refused to comment on the issue unless he was fully briefed. \"Give me some time. I need to be briefed on the issues,\" he had said soon after taking charge of the ministry on July 8. \"It will be very wrong for me to comment on it (fuel prices) when I have just stepped into this building.\"'"
            ]
          },
          "metadata": {
            "tags": []
          },
          "execution_count": 77
        }
      ]
    },
    {
      "cell_type": "code",
      "metadata": {
        "colab": {
          "base_uri": "https://localhost:8080/"
        },
        "id": "piEkrh3DcXdN",
        "outputId": "f8cda77f-0967-4dc7-ef6b-9527a1f81683"
      },
      "source": [
        "tokens = word_tokenize(article_content)\n",
        "\n",
        "nltk.download(\"stopwords\")\n",
        "stop_words = stopwords.words('english')"
      ],
      "execution_count": 80,
      "outputs": [
        {
          "output_type": "stream",
          "text": [
            "[nltk_data] Downloading package stopwords to /root/nltk_data...\n",
            "[nltk_data]   Package stopwords is already up-to-date!\n"
          ],
          "name": "stdout"
        }
      ]
    },
    {
      "cell_type": "code",
      "metadata": {
        "colab": {
          "base_uri": "https://localhost:8080/",
          "height": 35
        },
        "id": "NvKY4lc7cBXb",
        "outputId": "36fcbe0c-9c16-4663-9c9b-1bb183376a5b"
      },
      "source": [
        "punctuation = punctuation + '\\n'\n",
        "punctuation"
      ],
      "execution_count": 81,
      "outputs": [
        {
          "output_type": "execute_result",
          "data": {
            "application/vnd.google.colaboratory.intrinsic+json": {
              "type": "string"
            },
            "text/plain": [
              "'!\"#$%&\\'()*+,-./:;<=>?@[\\\\]^_`{|}~\\n'"
            ]
          },
          "metadata": {
            "tags": []
          },
          "execution_count": 81
        }
      ]
    },
    {
      "cell_type": "code",
      "metadata": {
        "id": "fGKHn89DcHGW"
      },
      "source": [
        "word_frequencies = {}\n",
        "for word in tokens:    \n",
        "    if word.lower() not in stop_words:\n",
        "        if word.lower() not in punctuation:\n",
        "            if word not in word_frequencies.keys():\n",
        "                word_frequencies[word] = 1\n",
        "            else:\n",
        "                word_frequencies[word] += 1            "
      ],
      "execution_count": 82,
      "outputs": []
    },
    {
      "cell_type": "code",
      "metadata": {
        "id": "LipNimN8ZWJd"
      },
      "source": [
        "word_frequencies"
      ],
      "execution_count": null,
      "outputs": []
    },
    {
      "cell_type": "code",
      "metadata": {
        "colab": {
          "base_uri": "https://localhost:8080/"
        },
        "id": "8F0zrIaQfB9U",
        "outputId": "3c081598-c8c9-4a09-e69a-0f3223c8db39"
      },
      "source": [
        "max_frequency = max(word_frequencies.values())\n",
        "print(max_frequency)"
      ],
      "execution_count": 84,
      "outputs": [
        {
          "output_type": "stream",
          "text": [
            "15\n"
          ],
          "name": "stdout"
        }
      ]
    },
    {
      "cell_type": "code",
      "metadata": {
        "id": "fngj044EfFhu"
      },
      "source": [
        "for word in word_frequencies.keys():\n",
        "    word_frequencies[word] = word_frequencies[word]/max_frequency"
      ],
      "execution_count": 85,
      "outputs": []
    },
    {
      "cell_type": "code",
      "metadata": {
        "colab": {
          "base_uri": "https://localhost:8080/"
        },
        "id": "GVNqhiBmfHxc",
        "outputId": "96e3ce8d-5be3-43a9-fb64-123b60bb878d"
      },
      "source": [
        "print(word_frequencies)"
      ],
      "execution_count": 86,
      "outputs": [
        {
          "output_type": "stream",
          "text": [
            "{'price': 0.8, 'petrol': 0.7333333333333333, 'diesel': 0.26666666666666666, 'remained': 0.26666666666666666, 'unchanged': 0.26666666666666666, 'July': 0.26666666666666666, '11': 0.06666666666666667, 'reaching': 0.06666666666666667, 'new': 0.06666666666666667, 'record': 0.06666666666666667, 'high': 0.13333333333333333, 'previous': 0.13333333333333333, 'day': 0.13333333333333333, 'according': 0.13333333333333333, 'notification': 0.06666666666666667, 'state-owned': 0.13333333333333333, 'fuel': 0.26666666666666666, 'retailers.The': 0.06666666666666667, 'increase': 0.13333333333333333, '10': 0.13333333333333333, '38th': 0.13333333333333333, 'since': 0.13333333333333333, 'May': 0.2, '4': 0.13333333333333333, 'took': 0.13333333333333333, 'Delhi': 0.13333333333333333, 'closer': 0.06666666666666667, 'Rs': 1.0, '101': 0.06666666666666667, 'per': 0.3333333333333333, 'litre': 0.6, 'mark': 0.2, 'national': 0.06666666666666667, 'capital': 0.06666666666666667, 'soared': 0.06666666666666667, '100.95': 0.06666666666666667, 'priced': 0.13333333333333333, '89.92': 0.06666666666666667, 'Bharat': 0.06666666666666667, 'Petroleum': 0.06666666666666667, \"'s\": 0.06666666666666667, 'listing.In': 0.06666666666666667, 'Mumbai': 0.06666666666666667, 'also': 0.3333333333333333, 'retailed': 0.13333333333333333, 'all-time': 0.06666666666666667, '106.97': 0.06666666666666667, 'financial': 0.06666666666666667, 'hub': 0.06666666666666667, '29': 0.06666666666666667, 'became': 0.06666666666666667, 'first': 0.06666666666666667, 'metro': 0.06666666666666667, 'country': 0.06666666666666667, 'sold': 0.13333333333333333, '100': 0.06666666666666667, 'litre.Diesel': 0.06666666666666667, '97.5': 0.06666666666666667, 'Maharashtra': 0.13333333333333333, '’': 0.13333333333333333, 'capital.The': 0.13333333333333333, 'prices': 0.26666666666666666, 'remain': 0.06666666666666667, 'Kolkata': 0.06666666666666667, '101.05': 0.06666666666666667, '93.01': 0.06666666666666667, 'respectively.Chennai': 0.06666666666666667, '--': 0.06666666666666667, '101.71': 0.06666666666666667, 'Diesel': 0.06666666666666667, '94.43': 0.06666666666666667, 'Tamil': 0.13333333333333333, 'Nadu': 0.13333333333333333, 'hike': 0.06666666666666667, 'oil': 0.06666666666666667, 'firms': 0.06666666666666667, 'ended': 0.06666666666666667, '18-day': 0.06666666666666667, 'hiatus': 0.06666666666666667, 'rate': 0.06666666666666667, 'revision': 0.06666666666666667, 'observed': 0.06666666666666667, 'assembly': 0.06666666666666667, 'elections': 0.06666666666666667, 'states': 0.13333333333333333, 'like': 0.06666666666666667, 'West': 0.06666666666666667, 'Bengal': 0.06666666666666667, '100-per-litre': 0.06666666666666667, 'places': 0.13333333333333333, 'Uttar': 0.06666666666666667, 'Pradesh': 0.2, 'Chhattisgarh': 0.06666666666666667, 'Nagaland.The': 0.06666666666666667, 'three': 0.06666666666666667, 'growing': 0.06666666666666667, 'list': 0.06666666666666667, '100-a-litre': 0.06666666666666667, 'States': 0.06666666666666667, 'reached': 0.06666666666666667, 'levels': 0.06666666666666667, 'past': 0.06666666666666667, 'weeks': 0.06666666666666667, 'Rajasthan': 0.06666666666666667, 'Madhya': 0.06666666666666667, 'Andhra': 0.06666666666666667, 'Telangana': 0.06666666666666667, 'Karnataka': 0.06666666666666667, 'Jammu': 0.06666666666666667, 'Kashmir': 0.06666666666666667, 'Odisha': 0.06666666666666667, 'Kerala': 0.06666666666666667, 'Bihar': 0.06666666666666667, 'Punjab': 0.06666666666666667, 'Ladakh': 0.06666666666666667, 'Sikkim': 0.06666666666666667, 'Puducherry.Fuel': 0.06666666666666667, 'differ': 0.06666666666666667, 'state': 0.26666666666666666, 'depending': 0.06666666666666667, 'incidence': 0.06666666666666667, 'local': 0.06666666666666667, 'taxes': 0.2, 'value-added': 0.06666666666666667, 'tax': 0.06666666666666667, 'VAT': 0.2, 'freight': 0.06666666666666667, 'charges': 0.06666666666666667, 'much': 0.06666666666666667, '55': 0.06666666666666667, 'percent': 0.06666666666666667, 'retail': 0.06666666666666667, 'selling': 0.06666666666666667, 'made': 0.13333333333333333, '32.90': 0.06666666666666667, 'excise': 0.13333333333333333, 'duty': 0.06666666666666667, 'collected': 0.06666666666666667, 'central': 0.13333333333333333, 'government': 0.13333333333333333, '22.80': 0.06666666666666667, 'levied': 0.06666666666666667, '.Half': 0.06666666666666667, '31.80': 0.06666666666666667, '13.04': 0.06666666666666667, '.Earlier': 0.06666666666666667, 'week': 0.06666666666666667, 'Oil': 0.06666666666666667, 'Minister': 0.06666666666666667, 'Hardeep': 0.06666666666666667, 'Singh': 0.06666666666666667, 'Puri': 0.06666666666666667, 'refused': 0.06666666666666667, 'comment': 0.13333333333333333, 'issue': 0.06666666666666667, 'unless': 0.06666666666666667, 'fully': 0.06666666666666667, 'briefed': 0.13333333333333333, '``': 0.13333333333333333, 'Give': 0.06666666666666667, 'time': 0.06666666666666667, 'need': 0.06666666666666667, 'issues': 0.06666666666666667, \"''\": 0.13333333333333333, 'said': 0.06666666666666667, 'soon': 0.06666666666666667, 'taking': 0.06666666666666667, 'charge': 0.06666666666666667, 'ministry': 0.06666666666666667, '8': 0.06666666666666667, 'wrong': 0.06666666666666667, 'stepped': 0.06666666666666667, 'building': 0.06666666666666667}\n"
          ],
          "name": "stdout"
        }
      ]
    },
    {
      "cell_type": "code",
      "metadata": {
        "colab": {
          "base_uri": "https://localhost:8080/"
        },
        "id": "LLvilk68fMlN",
        "outputId": "1ee4cb5a-daff-431d-d224-3a561d7c88e6"
      },
      "source": [
        "sent_token = sent_tokenize(article_content)\n",
        "sent_token"
      ],
      "execution_count": 87,
      "outputs": [
        {
          "output_type": "execute_result",
          "data": {
            "text/plain": [
              "['The price of petrol and diesel remained unchanged on July 11 after reaching a new record high on the previous day, according to a price notification by state-owned fuel retailers.The increase on July 10, 38th since May 4, took the petrol price in Delhi closer to Rs 101 per litre mark.',\n",
              " \"The petrol price in the national capital soared to Rs 100.95 a litre and diesel was priced at Rs 89.92 per litre, according to Bharat Petroleum's price listing.In Mumbai also, the petrol priced remained unchanged and retailed at an all-time high of Rs 106.97 a litre.\",\n",
              " 'The financial hub, on May 29, became the first metro in the country where petrol was being sold for more than Rs 100 per litre.Diesel price also remained unchanged and sold at Rs 97.5 per litre in Maharashtra’s capital.The fuel prices also remain the same in Kolkata, where the prices of a litre of petrol and diesel were Rs 101.05 and 93.01, respectively.Chennai also retailed a litre of petrol at the same price as it was on the previous day -- Rs 101.71.',\n",
              " 'Diesel price also remained unchanged at Rs 94.43 per litre in Tamil Nadu’s capital.The hike on July 10, 38th increase in the price of petrol since May 4 when state-owned oil firms ended an 18-day hiatus in rate revision they observed during assembly elections in states like West Bengal, took the petrol price above Rs 100-per-litre mark in some places in Uttar Pradesh, Chhattisgarh and Nagaland.The three states are in a growing list of places where the fuel is at over Rs 100-a-litre mark.',\n",
              " 'States, where petrol had reached those levels over the past few weeks, are Rajasthan, Madhya Pradesh, Maharashtra, Andhra Pradesh, Telangana, Karnataka, Jammu and Kashmir, Odisha, Tamil Nadu, Kerala, Bihar, Punjab, Ladakh, Sikkim and Puducherry.Fuel prices differ from state to state depending on the incidence of local taxes such as value-added tax (VAT) and freight charges.',\n",
              " 'As much as 55 percent of the retail selling price of petrol in Delhi is made up of taxes (Rs 32.90 a litre excise duty collected by the central government and Rs 22.80 VAT levied by the state government).Half of the diesel price is made up of taxes (Rs 31.80 central excise and Rs 13.04 state VAT).Earlier this week, Oil Minister Hardeep Singh Puri refused to comment on the issue unless he was fully briefed.',\n",
              " '\"Give me some time.',\n",
              " 'I need to be briefed on the issues,\" he had said soon after taking charge of the ministry on July 8.',\n",
              " '\"It will be very wrong for me to comment on it (fuel prices) when I have just stepped into this building.\"']"
            ]
          },
          "metadata": {
            "tags": []
          },
          "execution_count": 87
        }
      ]
    },
    {
      "cell_type": "code",
      "metadata": {
        "colab": {
          "base_uri": "https://localhost:8080/"
        },
        "id": "PM22NJMLfasn",
        "outputId": "7d8549ee-5267-4f13-a6c3-eaef54792592"
      },
      "source": [
        "sentence_scores = {}\n",
        "for sent in sent_token:\n",
        "    sentence = sent.split(\" \")\n",
        "    for word in sentence:        \n",
        "        if word.lower() in word_frequencies.keys():\n",
        "            if sent not in sentence_scores.keys():\n",
        "                sentence_scores[sent] = word_frequencies[word.lower()]\n",
        "            else:\n",
        "                sentence_scores[sent] += word_frequencies[word.lower()]\n",
        "\n",
        "sentence_scores                "
      ],
      "execution_count": 89,
      "outputs": [
        {
          "output_type": "execute_result",
          "data": {
            "text/plain": [
              "{'\"It will be very wrong for me to comment on it (fuel prices) when I have just stepped into this building.\"': 0.26666666666666666,\n",
              " 'As much as 55 percent of the retail selling price of petrol in Delhi is made up of taxes (Rs 32.90 a litre excise duty collected by the central government and Rs 22.80 VAT levied by the state government).Half of the diesel price is made up of taxes (Rs 31.80 central excise and Rs 13.04 state VAT).Earlier this week, Oil Minister Hardeep Singh Puri refused to comment on the issue unless he was fully briefed.': 6.333333333333335,\n",
              " 'Diesel price also remained unchanged at Rs 94.43 per litre in Tamil Nadu’s capital.The hike on July 10, 38th increase in the price of petrol since May 4 when state-owned oil firms ended an 18-day hiatus in rate revision they observed during assembly elections in states like West Bengal, took the petrol price above Rs 100-per-litre mark in some places in Uttar Pradesh, Chhattisgarh and Nagaland.The three states are in a growing list of places where the fuel is at over Rs 100-a-litre mark.': 8.933333333333332,\n",
              " 'I need to be briefed on the issues,\" he had said soon after taking charge of the ministry on July 8.': 0.5333333333333333,\n",
              " 'States, where petrol had reached those levels over the past few weeks, are Rajasthan, Madhya Pradesh, Maharashtra, Andhra Pradesh, Telangana, Karnataka, Jammu and Kashmir, Odisha, Tamil Nadu, Kerala, Bihar, Punjab, Ladakh, Sikkim and Puducherry.Fuel prices differ from state to state depending on the incidence of local taxes such as value-added tax (VAT) and freight charges.': 2.4000000000000004,\n",
              " 'The financial hub, on May 29, became the first metro in the country where petrol was being sold for more than Rs 100 per litre.Diesel price also remained unchanged and sold at Rs 97.5 per litre in Maharashtra’s capital.The fuel prices also remain the same in Kolkata, where the prices of a litre of petrol and diesel were Rs 101.05 and 93.01, respectively.Chennai also retailed a litre of petrol at the same price as it was on the previous day -- Rs 101.71.': 10.199999999999998,\n",
              " \"The petrol price in the national capital soared to Rs 100.95 a litre and diesel was priced at Rs 89.92 per litre, according to Bharat Petroleum's price listing.In Mumbai also, the petrol priced remained unchanged and retailed at an all-time high of Rs 106.97 a litre.\": 5.9333333333333345,\n",
              " 'The price of petrol and diesel remained unchanged on July 11 after reaching a new record high on the previous day, according to a price notification by state-owned fuel retailers.The increase on July 10, 38th since May 4, took the petrol price in Delhi closer to Rs 101 per litre mark.': 7.400000000000001}"
            ]
          },
          "metadata": {
            "tags": []
          },
          "execution_count": 89
        }
      ]
    },
    {
      "cell_type": "code",
      "metadata": {
        "id": "h9DY_HQBfkwW"
      },
      "source": [
        "from heapq import nlargest"
      ],
      "execution_count": 90,
      "outputs": []
    },
    {
      "cell_type": "code",
      "metadata": {
        "colab": {
          "base_uri": "https://localhost:8080/"
        },
        "id": "efQqKDaEfocw",
        "outputId": "082afa99-e603-4bf8-ac8a-f9471f4ab96c"
      },
      "source": [
        "select_length = int(len(sent_token)*0.3)\n",
        "select_length"
      ],
      "execution_count": 91,
      "outputs": [
        {
          "output_type": "execute_result",
          "data": {
            "text/plain": [
              "2"
            ]
          },
          "metadata": {
            "tags": []
          },
          "execution_count": 91
        }
      ]
    },
    {
      "cell_type": "code",
      "metadata": {
        "colab": {
          "base_uri": "https://localhost:8080/",
          "height": 119
        },
        "id": "7GJHlWKdfsk7",
        "outputId": "bc8fc331-c6af-4957-e575-3092c573001f"
      },
      "source": [
        "summary = nlargest(select_length, sentence_scores, key = sentence_scores.get)\n",
        "final_summary = [word for word in summary]\n",
        "summary = ' '.join(final_summary)\n",
        "summary"
      ],
      "execution_count": 93,
      "outputs": [
        {
          "output_type": "execute_result",
          "data": {
            "application/vnd.google.colaboratory.intrinsic+json": {
              "type": "string"
            },
            "text/plain": [
              "'The financial hub, on May 29, became the first metro in the country where petrol was being sold for more than Rs 100 per litre.Diesel price also remained unchanged and sold at Rs 97.5 per litre in Maharashtra’s capital.The fuel prices also remain the same in Kolkata, where the prices of a litre of petrol and diesel were Rs 101.05 and 93.01, respectively.Chennai also retailed a litre of petrol at the same price as it was on the previous day -- Rs 101.71. Diesel price also remained unchanged at Rs 94.43 per litre in Tamil Nadu’s capital.The hike on July 10, 38th increase in the price of petrol since May 4 when state-owned oil firms ended an 18-day hiatus in rate revision they observed during assembly elections in states like West Bengal, took the petrol price above Rs 100-per-litre mark in some places in Uttar Pradesh, Chhattisgarh and Nagaland.The three states are in a growing list of places where the fuel is at over Rs 100-a-litre mark.'"
            ]
          },
          "metadata": {
            "tags": []
          },
          "execution_count": 93
        }
      ]
    }
  ]
}
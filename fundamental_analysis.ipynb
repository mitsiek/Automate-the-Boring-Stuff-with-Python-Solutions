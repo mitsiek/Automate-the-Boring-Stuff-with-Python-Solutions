{
  "nbformat": 4,
  "nbformat_minor": 0,
  "metadata": {
    "colab": {
      "name": "fundamental_analysis.ipynb",
      "provenance": [],
      "collapsed_sections": [],
      "authorship_tag": "ABX9TyNdBn5S/iA9siMBavF8bsdu",
      "include_colab_link": true
    },
    "kernelspec": {
      "name": "python3",
      "display_name": "Python 3"
    },
    "language_info": {
      "name": "python"
    }
  },
  "cells": [
    {
      "cell_type": "markdown",
      "metadata": {
        "id": "view-in-github",
        "colab_type": "text"
      },
      "source": [
        "<a href=\"https://colab.research.google.com/github/mitsiek/Automate-the-Boring-Stuff-with-Python-Solutions/blob/master/fundamental_analysis.ipynb\" target=\"_parent\"><img src=\"https://colab.research.google.com/assets/colab-badge.svg\" alt=\"Open In Colab\"/></a>"
      ]
    },
    {
      "cell_type": "code",
      "metadata": {
        "id": "DKljV8aIMnus"
      },
      "source": [
        "!pip3 install requests\n",
        "!pip3 install beautifulsoup4\n",
        "!pip3 install fastnumbers\n",
        "!pip3 install pytidylib\n",
        "!pip3 install html-table-parser-python3"
      ],
      "execution_count": null,
      "outputs": []
    },
    {
      "cell_type": "code",
      "metadata": {
        "id": "CuecOR4dTmSR"
      },
      "source": [
        "import numpy as np # linear algebra\n",
        "import pandas as pd # pandas for dataframe based data processing and CSV file I/O\n",
        "import requests # for http requests\n",
        "from bs4 import BeautifulSoup # for html parsing and scraping\n",
        "import bs4\n",
        "from fastnumbers import isfloat \n",
        "from fastnumbers import fast_float\n",
        "from multiprocessing.dummy import Pool as ThreadPool \n",
        "\n",
        "import matplotlib.pyplot as plt\n",
        "import seaborn as sns\n",
        "import json\n",
        "from tidylib import tidy_document # for tidying incorrect html\n",
        "from IPython.core.display import HTML\n",
        "\n",
        "sns.set_style('whitegrid')\n",
        "%matplotlib inline\n",
        "from IPython.core.interactiveshell import InteractiveShell\n",
        "InteractiveShell.ast_node_interactivity = \"all\""
      ],
      "execution_count": 7,
      "outputs": []
    },
    {
      "cell_type": "code",
      "metadata": {
        "id": "FQ-OF-uyUSfC"
      },
      "source": [
        "def ffloat(string):\n",
        "    if string is None:\n",
        "        return np.nan\n",
        "    if type(string)==float or type(string)==np.float64:\n",
        "        return string\n",
        "    if type(string)==int or type(string)==np.int64:\n",
        "        return string\n",
        "    return fast_float(string.split(\" \")[0].replace(',','').replace('%',''),\n",
        "                      default=np.nan)\n",
        "    \n",
        "def ffloat_list(string_list):\n",
        "    return list(map(ffloat,string_list))\n",
        "\n",
        "def remove_multiple_spaces(string):\n",
        "    if type(string)==str:\n",
        "        return ' '.join(string.split())\n",
        "    return string"
      ],
      "execution_count": 8,
      "outputs": []
    },
    {
      "cell_type": "code",
      "metadata": {
        "colab": {
          "base_uri": "https://localhost:8080/",
          "height": 242
        },
        "id": "VpUBjY6wR_eI",
        "outputId": "f703d539-a0f0-4380-ff92-5ca54c3d713f"
      },
      "source": [
        "response_quote = requests.get(\"https://www.moneycontrol.com/india/stockpricequote/software/subex/S15\", timeout=240)\n",
        "page_content_quote = BeautifulSoup(response_quote.content, \"html.parser\")\n",
        "HTML(str(page_content_quote.find(\"h1\")))\n",
        "\n",
        "# get market cap,p/b,open,close,high,volume\n",
        "print(\"MarketCap: \"+page_content_quote.find(\"td\", text=\"Mkt Cap (Rs. Cr.)\").find_next_sibling(\"td\").text)\n",
        "print(\"TTM EPS: \"+page_content_quote.find(\"td\", text=\"TTM EPS\").find_next_sibling(\"td\").text)\n",
        "print(\"TTM PE: \"+page_content_quote.find(\"td\", text=\"TTM PE\").find_next_sibling(\"td\").text)\n",
        "print(\"P/B: \"+page_content_quote.find(\"td\", text=\"P/B\").find_next_sibling(\"td\").text)\n",
        "print(\"Open: \"+page_content_quote.find(\"td\", text=\"Open\").find_next_sibling(\"td\").text)\n",
        "print(\"High: \"+page_content_quote.find(\"td\", text=\"High\").find_next_sibling(\"td\").text)\n",
        "print(\"Low: \"+page_content_quote.find(\"td\", text=\"Low\").find_next_sibling(\"td\").text)\n",
        "print(\"Previous Close: \"+page_content_quote.find(\"td\", text=\"Previous Close\").find_next_sibling(\"td\").text)\n",
        "print(\"Volume: \"+page_content_quote.find(\"td\", text=\"Volume\").find_next_sibling(\"td\").text)\n",
        "\n",
        "# get financials\n",
        "print(\"ROE: to be fetched\")\n",
        "          "
      ],
      "execution_count": 9,
      "outputs": [
        {
          "output_type": "execute_result",
          "data": {
            "text/html": [
              "<h1>Subex Ltd.</h1>"
            ],
            "text/plain": [
              "<IPython.core.display.HTML object>"
            ]
          },
          "metadata": {
            "tags": []
          },
          "execution_count": 9
        },
        {
          "output_type": "stream",
          "text": [
            "MarketCap: 4,001\n",
            "TTM EPS: 0.92\n",
            "TTM PE: 77.39\n",
            "P/B: 7.30\n",
            "Open: 71.75\n",
            "High: 73.65\n",
            "Low: 70.65\n",
            "Previous Close: 71.95\n",
            "Volume: 19,061,028.00\n",
            "ROE: to be fetched\n"
          ],
          "name": "stdout"
        }
      ]
    },
    {
      "cell_type": "code",
      "metadata": {
        "colab": {
          "base_uri": "https://localhost:8080/",
          "height": 326
        },
        "id": "lwozDnXgxn62",
        "outputId": "d17c2279-f9d2-4c41-c4f1-ff5556a6d7f2"
      },
      "source": [
        "response_analysis = requests.get(\"https://www.moneycontrol.com/swot-analysis/subex/S15\", timeout=240)\n",
        "page_content_analysis = BeautifulSoup(response_analysis.content, \"html.parser\")\n",
        "HTML(str(page_content_quote.find(\"h1\")))\n",
        "\n",
        "# To print all strengths about stock\n",
        "print(\"Strengths:\")\n",
        "area_of_focus = page_content_analysis.find('div', {'id' : 'strength'})\n",
        "for ultag in area_of_focus.find_all('ul', {'class': 'swotfeatlist'}):\n",
        "  for litag in ultag.find_all('li'):\n",
        "    print(\"- \"+litag.text)\n",
        "\n",
        "print('')\n",
        "\n",
        "# To print all weaknesses about stock\n",
        "print(\"Weaknesses:\")\n",
        "area_of_focus = page_content_analysis.find('div', {'id' : 'weakness'})\n",
        "for ultag in area_of_focus.find_all('ul', {'class': 'swotfeatlist'}):\n",
        "  for litag in ultag.find_all('li'):\n",
        "    print(\"- \"+litag.text) "
      ],
      "execution_count": 11,
      "outputs": [
        {
          "output_type": "execute_result",
          "data": {
            "text/html": [
              "<h1>Subex Ltd.</h1>"
            ],
            "text/plain": [
              "<IPython.core.display.HTML object>"
            ]
          },
          "metadata": {
            "tags": []
          },
          "execution_count": 11
        },
        {
          "output_type": "stream",
          "text": [
            "Strengths:\n",
            "- High Piotroski Score - Companies with strong financials\n",
            "- Strong Annual EPS Growth\n",
            "- Growth in Net Profit with increasing Profit Margin (QoQ)\n",
            "- Company with Low Debt\n",
            "- Increasing Revenue every quarter for the past 3 quarters\n",
            "- Strong cash generating ability from core business - Improving Cash Flow from operation for last 2 years\n",
            "- Company able to generate Net Cash - Improving Net Cash Flow for last 2 years\n",
            "- Near 52 Week High\n",
            "- Strong Momentum: Price above short, medium and long term moving averages\n",
            "\n",
            "Weaknesses:\n",
            "- Decline in Quarterly Net Profit with falling Profit Margin (YoY)\n",
            "- Fall in Quarterly Revenue and Net Profit (YoY)\n",
            "- Recent Results: Declining Operating Profit Margin and Net Profits (YoY)\n"
          ],
          "name": "stdout"
        }
      ]
    }
  ]
}
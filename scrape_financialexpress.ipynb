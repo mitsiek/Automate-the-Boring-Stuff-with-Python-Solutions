{
  "nbformat": 4,
  "nbformat_minor": 0,
  "metadata": {
    "colab": {
      "name": "scrape_financialexpress.ipynb",
      "provenance": [],
      "collapsed_sections": [],
      "authorship_tag": "ABX9TyPcjYh7rwlgkcvNDpO9vOC/",
      "include_colab_link": true
    },
    "kernelspec": {
      "name": "python3",
      "display_name": "Python 3"
    },
    "language_info": {
      "name": "python"
    }
  },
  "cells": [
    {
      "cell_type": "markdown",
      "metadata": {
        "id": "view-in-github",
        "colab_type": "text"
      },
      "source": [
        "<a href=\"https://colab.research.google.com/github/mitsiek/Automate-the-Boring-Stuff-with-Python-Solutions/blob/master/scrape_financialexpress.ipynb\" target=\"_parent\"><img src=\"https://colab.research.google.com/assets/colab-badge.svg\" alt=\"Open In Colab\"/></a>"
      ]
    },
    {
      "cell_type": "code",
      "metadata": {
        "id": "dsO0_C-4jQjG"
      },
      "source": [
        "!pip3 install requests\n",
        "!pip3 install beautifulsoup4\n",
        "!pip3 install fastnumbers\n",
        "!pip3 install pytidylib"
      ],
      "execution_count": null,
      "outputs": []
    },
    {
      "cell_type": "code",
      "metadata": {
        "colab": {
          "base_uri": "https://localhost:8080/",
          "height": 203
        },
        "id": "GXz4xDJJjGRi",
        "outputId": "bc5d70e4-322a-45e3-dc92-8884054af612"
      },
      "source": [
        "import numpy as np # linear algebra\n",
        "import pandas as pd # pandas for dataframe based data processing and CSV file I/O\n",
        "import requests # for http requests\n",
        "from bs4 import BeautifulSoup # for html parsing and scraping\n",
        "from multiprocessing.dummy import Pool as ThreadPool\n",
        "import json\n",
        "from tidylib import tidy_document # for tidying incorrect html\n",
        "from IPython.core.display import HTML\n",
        "from IPython.core.interactiveshell import InteractiveShell\n",
        "InteractiveShell.ast_node_interactivity = \"all\"\n",
        "\n",
        "#pd.set_option('display.max_columns', None)\n",
        "#pd.set_option('display.max_rows', None)\n",
        "balSheet = pd.read_html('https://www.financialexpress.com/market/stock-market/subex-ltd-stock-price/financials-ratios/').pop(0)\n",
        "df1 = pd.DataFrame(balSheet)\n",
        "df1.iloc[[1, 14, 16, 34, 41]]"
      ],
      "execution_count": 46,
      "outputs": [
        {
          "output_type": "execute_result",
          "data": {
            "text/html": [
              "<div>\n",
              "<style scoped>\n",
              "    .dataframe tbody tr th:only-of-type {\n",
              "        vertical-align: middle;\n",
              "    }\n",
              "\n",
              "    .dataframe tbody tr th {\n",
              "        vertical-align: top;\n",
              "    }\n",
              "\n",
              "    .dataframe thead th {\n",
              "        text-align: right;\n",
              "    }\n",
              "</style>\n",
              "<table border=\"1\" class=\"dataframe\">\n",
              "  <thead>\n",
              "    <tr style=\"text-align: right;\">\n",
              "      <th></th>\n",
              "      <th>Parameter</th>\n",
              "      <th>MAR 21</th>\n",
              "      <th>MAR 20</th>\n",
              "      <th>YoY %Change</th>\n",
              "    </tr>\n",
              "  </thead>\n",
              "  <tbody>\n",
              "    <tr>\n",
              "      <th>1</th>\n",
              "      <td>Earnings Per Share (Rs)</td>\n",
              "      <td>0.92</td>\n",
              "      <td>-4.79</td>\n",
              "      <td>119.22</td>\n",
              "    </tr>\n",
              "    <tr>\n",
              "      <th>14</th>\n",
              "      <td>ROE(%)</td>\n",
              "      <td>9.75</td>\n",
              "      <td>-41.15</td>\n",
              "      <td>123.70</td>\n",
              "    </tr>\n",
              "    <tr>\n",
              "      <th>16</th>\n",
              "      <td>Asset Turnover(x)</td>\n",
              "      <td>0.53</td>\n",
              "      <td>0.46</td>\n",
              "      <td>14.58</td>\n",
              "    </tr>\n",
              "    <tr>\n",
              "      <th>34</th>\n",
              "      <td>Growth Ratio</td>\n",
              "      <td>NaN</td>\n",
              "      <td>NaN</td>\n",
              "      <td>NaN</td>\n",
              "    </tr>\n",
              "    <tr>\n",
              "      <th>41</th>\n",
              "      <td>Total Debt/Equity(x)</td>\n",
              "      <td>0.01</td>\n",
              "      <td>0.00</td>\n",
              "      <td>0.00</td>\n",
              "    </tr>\n",
              "  </tbody>\n",
              "</table>\n",
              "</div>"
            ],
            "text/plain": [
              "                  Parameter  MAR 21  MAR 20  YoY %Change\n",
              "1   Earnings Per Share (Rs)    0.92   -4.79       119.22\n",
              "14                   ROE(%)    9.75  -41.15       123.70\n",
              "16        Asset Turnover(x)    0.53    0.46        14.58\n",
              "34             Growth Ratio     NaN     NaN          NaN\n",
              "41     Total Debt/Equity(x)    0.01    0.00         0.00"
            ]
          },
          "metadata": {
            "tags": []
          },
          "execution_count": 46
        }
      ]
    }
  ]
}
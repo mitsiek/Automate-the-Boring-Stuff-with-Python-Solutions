{
  "nbformat": 4,
  "nbformat_minor": 0,
  "metadata": {
    "colab": {
      "name": "pandas_dataframe_fundamental_analysis.ipynb",
      "provenance": [],
      "collapsed_sections": [],
      "authorship_tag": "ABX9TyMVhrt+GOtnurFND5OzsAg/",
      "include_colab_link": true
    },
    "kernelspec": {
      "name": "python3",
      "display_name": "Python 3"
    },
    "language_info": {
      "name": "python"
    }
  },
  "cells": [
    {
      "cell_type": "markdown",
      "metadata": {
        "id": "view-in-github",
        "colab_type": "text"
      },
      "source": [
        "<a href=\"https://colab.research.google.com/github/mitsiek/Automate-the-Boring-Stuff-with-Python-Solutions/blob/master/pandas_dataframe_fundamental_analysis.ipynb\" target=\"_parent\"><img src=\"https://colab.research.google.com/assets/colab-badge.svg\" alt=\"Open In Colab\"/></a>"
      ]
    },
    {
      "cell_type": "code",
      "metadata": {
        "id": "z_osx2FP0HKw"
      },
      "source": [
        "!pip3 install requests\n",
        "!pip3 install beautifulsoup4\n",
        "!pip3 install fastnumbers\n",
        "!pip3 install pytidylib"
      ],
      "execution_count": null,
      "outputs": []
    },
    {
      "cell_type": "code",
      "metadata": {
        "colab": {
          "base_uri": "https://localhost:8080/",
          "height": 626
        },
        "id": "PWqdMbVRqG7M",
        "outputId": "45f8ec32-bf11-4a58-b6f8-8bf6b213c6fb"
      },
      "source": [
        "import numpy as np # linear algebra\n",
        "import pandas as pd # pandas for dataframe based data processing and CSV file I/O\n",
        "import requests # for http requests\n",
        "from bs4 import BeautifulSoup # for html parsing and scraping\n",
        "import bs4\n",
        "from fastnumbers import isfloat \n",
        "from fastnumbers import fast_float\n",
        "from multiprocessing.dummy import Pool as ThreadPool \n",
        "\n",
        "import matplotlib.pyplot as plt\n",
        "import seaborn as sns\n",
        "import json\n",
        "from tidylib import tidy_document # for tidying incorrect html\n",
        "from IPython.core.display import HTML\n",
        "\n",
        "sns.set_style('whitegrid')\n",
        "%matplotlib inline\n",
        "from IPython.core.interactiveshell import InteractiveShell\n",
        "InteractiveShell.ast_node_interactivity = \"all\"\n",
        "\n",
        "tables = pd.read_html('https://www.moneycontrol.com/india/stockpricequote/software/subex/S15')\n",
        "df1 = pd.DataFrame(tables[5]).head(1)\n",
        "df2 = pd.DataFrame(tables[4]).head(2)\n",
        "df3 = pd.DataFrame(tables[6]).head(3)\n",
        "df4 = pd.DataFrame(tables[2]).head(2)\n",
        "df5 = pd.DataFrame(tables[3]).head(2)\n",
        "#print('Tables found:', len(tables))\n",
        "all_tabs = len(tables)\n",
        "result = pd.concat([df1, df2, df3, df4, df5], ignore_index=True)\n",
        "final = pd.DataFrame(result)\n",
        "final.columns =['Metrics', 'Data']\n",
        "final\n",
        "#final.iloc[[4]]\n",
        "\n",
        "print('')\n",
        "\n",
        "response_analysis = requests.get(\"https://www.moneycontrol.com/swot-analysis/subex/S15\", timeout=240)\n",
        "page_content_analysis = BeautifulSoup(response_analysis.content, \"html.parser\")\n",
        "#HTML(str(page_content_quote.find(\"h1\")))\n",
        "\n",
        "# To print all strengths about stock\n",
        "print(\"Strengths:\")\n",
        "area_of_focus = page_content_analysis.find('div', {'id' : 'strength'})\n",
        "for ultag in area_of_focus.find_all('ul', {'class': 'swotfeatlist'}):\n",
        "  for litag in ultag.find_all('li'):\n",
        "    print(\"- \"+litag.text)\n",
        "\n",
        "print('')\n",
        "\n",
        "# To print all weaknesses about stock\n",
        "print(\"Weaknesses:\")\n",
        "area_of_focus = page_content_analysis.find('div', {'id' : 'weakness'})\n",
        "for ultag in area_of_focus.find_all('ul', {'class': 'swotfeatlist'}):\n",
        "  for litag in ultag.find_all('li'):\n",
        "    print(\"- \"+litag.text)"
      ],
      "execution_count": null,
      "outputs": [
        {
          "output_type": "execute_result",
          "data": {
            "text/html": [
              "<div>\n",
              "<style scoped>\n",
              "    .dataframe tbody tr th:only-of-type {\n",
              "        vertical-align: middle;\n",
              "    }\n",
              "\n",
              "    .dataframe tbody tr th {\n",
              "        vertical-align: top;\n",
              "    }\n",
              "\n",
              "    .dataframe thead th {\n",
              "        text-align: right;\n",
              "    }\n",
              "</style>\n",
              "<table border=\"1\" class=\"dataframe\">\n",
              "  <thead>\n",
              "    <tr style=\"text-align: right;\">\n",
              "      <th></th>\n",
              "      <th>Metrics</th>\n",
              "      <th>Data</th>\n",
              "    </tr>\n",
              "  </thead>\n",
              "  <tbody>\n",
              "    <tr>\n",
              "      <th>0</th>\n",
              "      <td>Mkt Cap (Rs. Cr.)</td>\n",
              "      <td>4001</td>\n",
              "    </tr>\n",
              "    <tr>\n",
              "      <th>1</th>\n",
              "      <td>TTM EPS</td>\n",
              "      <td>0.92</td>\n",
              "    </tr>\n",
              "    <tr>\n",
              "      <th>2</th>\n",
              "      <td>TTM PE</td>\n",
              "      <td>77.39</td>\n",
              "    </tr>\n",
              "    <tr>\n",
              "      <th>3</th>\n",
              "      <td>Revenue</td>\n",
              "      <td>5.0%</td>\n",
              "    </tr>\n",
              "    <tr>\n",
              "      <th>4</th>\n",
              "      <td>NetProfit</td>\n",
              "      <td>35.7%</td>\n",
              "    </tr>\n",
              "    <tr>\n",
              "      <th>5</th>\n",
              "      <td>OperatingProfit</td>\n",
              "      <td>42.2%</td>\n",
              "    </tr>\n",
              "    <tr>\n",
              "      <th>6</th>\n",
              "      <td>Open</td>\n",
              "      <td>71.75</td>\n",
              "    </tr>\n",
              "    <tr>\n",
              "      <th>7</th>\n",
              "      <td>Previous Close</td>\n",
              "      <td>71.95</td>\n",
              "    </tr>\n",
              "    <tr>\n",
              "      <th>8</th>\n",
              "      <td>High</td>\n",
              "      <td>73.65</td>\n",
              "    </tr>\n",
              "    <tr>\n",
              "      <th>9</th>\n",
              "      <td>Low</td>\n",
              "      <td>70.65</td>\n",
              "    </tr>\n",
              "  </tbody>\n",
              "</table>\n",
              "</div>"
            ],
            "text/plain": [
              "             Metrics   Data\n",
              "0  Mkt Cap (Rs. Cr.)   4001\n",
              "1            TTM EPS   0.92\n",
              "2             TTM PE  77.39\n",
              "3            Revenue   5.0%\n",
              "4          NetProfit  35.7%\n",
              "5    OperatingProfit  42.2%\n",
              "6               Open  71.75\n",
              "7     Previous Close  71.95\n",
              "8               High  73.65\n",
              "9                Low  70.65"
            ]
          },
          "metadata": {
            "tags": []
          },
          "execution_count": 61
        },
        {
          "output_type": "stream",
          "text": [
            "\n",
            "Strengths:\n",
            "- High Piotroski Score - Companies with strong financials\n",
            "- Strong Annual EPS Growth\n",
            "- Growth in Net Profit with increasing Profit Margin (QoQ)\n",
            "- Company with Low Debt\n",
            "- Increasing Revenue every quarter for the past 3 quarters\n",
            "- Strong cash generating ability from core business - Improving Cash Flow from operation for last 2 years\n",
            "- Company able to generate Net Cash - Improving Net Cash Flow for last 2 years\n",
            "- Near 52 Week High\n",
            "- Strong Momentum: Price above short, medium and long term moving averages\n",
            "\n",
            "Weaknesses:\n",
            "- Decline in Quarterly Net Profit with falling Profit Margin (YoY)\n",
            "- Fall in Quarterly Revenue and Net Profit (YoY)\n",
            "- Recent Results: Declining Operating Profit Margin and Net Profits (YoY)\n"
          ],
          "name": "stdout"
        }
      ]
    },
    {
      "cell_type": "code",
      "metadata": {
        "colab": {
          "base_uri": "https://localhost:8080/"
        },
        "id": "OJsWso-c--mN",
        "outputId": "b617eec8-7981-43ad-cea3-61c838989dcf"
      },
      "source": [
        "import pandas as pd\n",
        "\n",
        "df = pd.read_html('https://www.moneycontrol.com/financials/subex/ratiosVI/S15#S15', attrs={'class':'mctable1'})\n",
        "#peers = pd.DataFrame(df)\n",
        "print(df)"
      ],
      "execution_count": null,
      "outputs": [
        {
          "output_type": "stream",
          "text": [
            "[                                             0        1  ...       5   6\n",
            "0   Key Financial Ratios of Subex (in Rs. Cr.)   Mar 21  ...  Mar 17 NaN\n",
            "1                             Per Share Ratios      NaN  ...     NaN NaN\n",
            "2                              Basic EPS (Rs.)     0.49  ...   -0.13 NaN\n",
            "3                            Diluted EPS (Rs.)     0.48  ...   -0.13 NaN\n",
            "4                               Cash EPS (Rs.)     0.50  ...   -0.08 NaN\n",
            "5    Book Value [ExclRevalReserve]/Share (Rs.)     8.93  ...   12.57 NaN\n",
            "6    Book Value [InclRevalReserve]/Share (Rs.)     8.93  ...   12.57 NaN\n",
            "7                        Dividend / Share(Rs.)     0.75  ...    0.00 NaN\n",
            "8          Revenue from Operations/Share (Rs.)     0.98  ...    6.40 NaN\n",
            "9                            PBDIT/Share (Rs.)     0.55  ...    1.17 NaN\n",
            "10                            PBIT/Share (Rs.)     0.52  ...    1.12 NaN\n",
            "11                             PBT/Share (Rs.)     0.47  ...   -0.08 NaN\n",
            "12                      Net Profit/Share (Rs.)     0.47  ...   -0.13 NaN\n",
            "13                        Profitability Ratios      NaN  ...     NaN NaN\n",
            "14                            PBDIT Margin (%)    56.15  ...   18.31 NaN\n",
            "15                             PBIT Margin (%)    52.64  ...   17.46 NaN\n",
            "16                              PBT Margin (%)    48.19  ...   -1.32 NaN\n",
            "17                       Net Profit Margin (%)    47.66  ...   -2.10 NaN\n",
            "18             Return on Networth / Equity (%)     5.22  ...   -1.07 NaN\n",
            "19              Return on Capital Employed (%)     5.75  ...   -1.06 NaN\n",
            "20                        Return on Assets (%)     4.52  ...   -0.73 NaN\n",
            "21                       Total Debt/Equity (X)     0.00  ...    0.13 NaN\n",
            "22                    Asset Turnover Ratio (%)     9.49  ...   35.08 NaN\n",
            "23                            Liquidity Ratios      NaN  ...     NaN NaN\n",
            "24                           Current Ratio (X)     0.86  ...    0.80 NaN\n",
            "25                             Quick Ratio (X)     0.86  ...    0.80 NaN\n",
            "26                Inventory Turnover Ratio (X)     0.00  ...    0.00 NaN\n",
            "27              Dividend Payout Ratio (NP) (%)   104.72  ...    0.00 NaN\n",
            "28              Dividend Payout Ratio (CP) (%)    97.54  ...    0.00 NaN\n",
            "29                Earnings Retention Ratio (%)    -4.72  ...    0.00 NaN\n",
            "30           Cash Earnings Retention Ratio (%)     2.46  ...    0.00 NaN\n",
            "31                            Valuation Ratios      NaN  ...     NaN NaN\n",
            "32                      Enterprise Value (Cr.)  1993.94  ...  643.00 NaN\n",
            "33                EV/Net Operating Revenue (X)    36.25  ...    1.98 NaN\n",
            "34                               EV/EBITDA (X)    64.55  ...   10.82 NaN\n",
            "35         MarketCap/Net Operating Revenue (X)    36.32  ...    1.72 NaN\n",
            "36                        Retention Ratios (%)    -4.72  ...    0.00 NaN\n",
            "37                                Price/BV (X)     3.98  ...    0.88 NaN\n",
            "38                 Price/Net Operating Revenue    36.33  ...    1.72 NaN\n",
            "39                              Earnings Yield     0.01  ...   -0.01 NaN\n",
            "\n",
            "[40 rows x 7 columns]]\n"
          ],
          "name": "stdout"
        }
      ]
    }
  ]
}
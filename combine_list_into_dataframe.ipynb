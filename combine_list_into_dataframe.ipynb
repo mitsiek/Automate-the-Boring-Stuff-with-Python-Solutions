{
  "nbformat": 4,
  "nbformat_minor": 0,
  "metadata": {
    "colab": {
      "name": "combine_list_into_dataframe.ipynb",
      "provenance": [],
      "authorship_tag": "ABX9TyOAO2VLuqViIxkHB5f85en8",
      "include_colab_link": true
    },
    "kernelspec": {
      "name": "python3",
      "display_name": "Python 3"
    },
    "language_info": {
      "name": "python"
    }
  },
  "cells": [
    {
      "cell_type": "markdown",
      "metadata": {
        "id": "view-in-github",
        "colab_type": "text"
      },
      "source": [
        "<a href=\"https://colab.research.google.com/github/mitsiek/Automate-the-Boring-Stuff-with-Python-Solutions/blob/master/combine_list_into_dataframe.ipynb\" target=\"_parent\"><img src=\"https://colab.research.google.com/assets/colab-badge.svg\" alt=\"Open In Colab\"/></a>"
      ]
    },
    {
      "cell_type": "code",
      "metadata": {
        "id": "x04cBUh73uwx"
      },
      "source": [
        "from bs4 import BeautifulSoup\n",
        "import requests\n",
        "from IPython.core.display import display, HTML\n",
        "import urllib.request\n",
        "import pandas as pd\n",
        "\n",
        "#https://www.moneycontrol.com/news/analysis-252.html/page-2/\n",
        "text = urllib.request.urlopen('https://www.financialexpress.com/market/stock-market/subex-ltd-stock-price/')\n",
        "article = text.read()\n",
        "#display(HTML('<h2>Summarized data from financial express</h2>'))\n",
        "article_parsed = BeautifulSoup(article, 'lxml')\n",
        "span = article_parsed.find('div', {'class' : 'tablebox'})"
      ],
      "execution_count": 109,
      "outputs": []
    },
    {
      "cell_type": "code",
      "metadata": {
        "id": "UNEjQ2xnF33n"
      },
      "source": [
        "param_list = []\n",
        "data_list = []\n",
        "\n",
        "for span_param_name in span.findAll('span', {'class' : 'tdbox dark-gray'}):\n",
        "  param_list.append(span_param_name.text)\n",
        "\n",
        "res_param = []\n",
        "for i in param_list:\n",
        "    if i not in res_param:\n",
        "        res_param.append(i)  \n",
        "\n",
        "for span_data in span.findAll('span', {'class' : 'tdbox align-right'}):\n",
        "  data_list.append(span_data.text)\n",
        "\n",
        "res_data = []\n",
        "for i in data_list:\n",
        "    if i not in res_data:\n",
        "        res_data.append(i)"
      ],
      "execution_count": 120,
      "outputs": []
    },
    {
      "cell_type": "code",
      "metadata": {
        "colab": {
          "base_uri": "https://localhost:8080/",
          "height": 357
        },
        "id": "YjfPiJi5F4Rj",
        "outputId": "4c5ca95a-adb2-4aa7-90a2-35baafb51b9b"
      },
      "source": [
        "data = {'Parameter':res_param,'Values':res_data}\n",
        "df = pd.DataFrame(data)\n",
        "df"
      ],
      "execution_count": 121,
      "outputs": [
        {
          "output_type": "execute_result",
          "data": {
            "text/html": [
              "<div>\n",
              "<style scoped>\n",
              "    .dataframe tbody tr th:only-of-type {\n",
              "        vertical-align: middle;\n",
              "    }\n",
              "\n",
              "    .dataframe tbody tr th {\n",
              "        vertical-align: top;\n",
              "    }\n",
              "\n",
              "    .dataframe thead th {\n",
              "        text-align: right;\n",
              "    }\n",
              "</style>\n",
              "<table border=\"1\" class=\"dataframe\">\n",
              "  <thead>\n",
              "    <tr style=\"text-align: right;\">\n",
              "      <th></th>\n",
              "      <th>Parameter</th>\n",
              "      <th>Values</th>\n",
              "    </tr>\n",
              "  </thead>\n",
              "  <tbody>\n",
              "    <tr>\n",
              "      <th>0</th>\n",
              "      <td>Previous Close</td>\n",
              "      <td>71.20</td>\n",
              "    </tr>\n",
              "    <tr>\n",
              "      <th>1</th>\n",
              "      <td>Day's Open</td>\n",
              "      <td>71.90</td>\n",
              "    </tr>\n",
              "    <tr>\n",
              "      <th>2</th>\n",
              "      <td>Bid Price (Qty)</td>\n",
              "      <td>70.55 (759)</td>\n",
              "    </tr>\n",
              "    <tr>\n",
              "      <th>3</th>\n",
              "      <td>Offer Price (Qty)</td>\n",
              "      <td>70.60 (3819)</td>\n",
              "    </tr>\n",
              "    <tr>\n",
              "      <th>4</th>\n",
              "      <td>Day’s High - Low</td>\n",
              "      <td>72.10 - 70.25</td>\n",
              "    </tr>\n",
              "    <tr>\n",
              "      <th>5</th>\n",
              "      <td>52 Week Range</td>\n",
              "      <td>7.4 - 74.4</td>\n",
              "    </tr>\n",
              "    <tr>\n",
              "      <th>6</th>\n",
              "      <td>Volume Traded (in 000's)</td>\n",
              "      <td>5281.00</td>\n",
              "    </tr>\n",
              "    <tr>\n",
              "      <th>7</th>\n",
              "      <td>Value traded (in Cr.)</td>\n",
              "      <td>37.26</td>\n",
              "    </tr>\n",
              "    <tr>\n",
              "      <th>8</th>\n",
              "      <td>PE Ratio (x)</td>\n",
              "      <td>151.32</td>\n",
              "    </tr>\n",
              "    <tr>\n",
              "      <th>9</th>\n",
              "      <td>M Cap (in Cr.)</td>\n",
              "      <td>3967.74</td>\n",
              "    </tr>\n",
              "  </tbody>\n",
              "</table>\n",
              "</div>"
            ],
            "text/plain": [
              "                  Parameter         Values\n",
              "0            Previous Close          71.20\n",
              "1                Day's Open          71.90\n",
              "2           Bid Price (Qty)    70.55 (759)\n",
              "3         Offer Price (Qty)   70.60 (3819)\n",
              "4          Day’s High - Low  72.10 - 70.25\n",
              "5             52 Week Range     7.4 - 74.4\n",
              "6  Volume Traded (in 000's)        5281.00\n",
              "7     Value traded (in Cr.)          37.26\n",
              "8              PE Ratio (x)         151.32\n",
              "9            M Cap (in Cr.)        3967.74"
            ]
          },
          "metadata": {
            "tags": []
          },
          "execution_count": 121
        }
      ]
    }
  ]
}